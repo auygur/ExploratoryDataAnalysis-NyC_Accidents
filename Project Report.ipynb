{
 "cells": [
  {
   "cell_type": "markdown",
   "metadata": {},
   "source": [
    "# NYC Motor Vehicle Collisions: Visualizing trends in Data\n",
    "\n",
    "#### Submitted by: Kaavya Chinniah (kc3057) , Amla Srivastava (as5196), Arman Uygur (au2205)"
   ]
  },
  {
   "cell_type": "markdown",
   "metadata": {},
   "source": [
    "### 1. Introduction\n",
    "\n",
    "All team members recently moved to New York and as data scientists we wanted to work with data pertaining to the City. NYC is home to more than 8 million people and sees roughly 50 million tourists every year. Being one of the world’s major commercial hubs, there is a lot of traffic on both the roads and subways, the two most popular means of commuting, for most parts of the day. As a result of continuously intensifying interactions as population increases , more frequent accidents on the roads are expected. \n",
    "NYC Open Data provides easy access to a lot of data pertaining to motor vehicle accidents on the streets of New York for the time period 2012 -2017. We have selected the time period 2013-2016 for our analysis. There have been several attempts to study, explore and visualise this data. However, we found that not many currently provide any deep insights for making comparisons or for obtaining shifting/emerging trends over the years. The aim of our project is to develop a more comprehensive exploratory visualization tool to enable users to explore more aspects of the data, gather insights and enable them to make better inferences.\n",
    "\n",
    "Some of the questions we tried to explore through the data are given below:\n",
    "\n",
    "* What are the most accident-prone regions? Does location influence the number of accidents?\n",
    "* Daily, weekly, monthly trends? How do trends change over time? What is the most unsafe time to drive in a day?\n",
    "* What time of the day can we expect to see more accidents? Are there more accidents on weekdays as compared to weekdays?\n",
    "* What factors contribute more towards accidents?\n",
    "* Is there a relationship between time of day and contributing factors? Is it true, that alcohol related accidents occur more during the late hours around 12am to 4am?\n",
    "* What is the proportion of deaths and injuries?\n",
    "* What are the types of vehicles involved? Do they vary by hour (rush hour vs rest of day)\n",
    "* Larger the population in an area, more the number of accidents?\n",
    "* Trends during holidays, special occasions?\n",
    "\n",
    "##### Data collection\n",
    "\n",
    "After exploring potential datasets, we found that NYPD collect details about motor vehicle accidents and provides it for free public access on the NYC Open Data website. The dataset we used is under the section, NYPD Motor Vehicle Collisions: https://data.cityofnewyork.us/Public-Safety/NYPD-Motor-Vehicle-Collisions/h9gi-nx95\n"
   ]
  },
  {
   "cell_type": "markdown",
   "metadata": {},
   "source": [
    "### 2. Team\n",
    "\n",
    "The team members and their contributions are listed below:\n",
    "\n",
    "###### Kaavya Chinniah:\n",
    "- Data preparation, feature engineering and preprocessing\n",
    "- Identifying trends and correlation between variables\n",
    "- Exploratory data analysis \n",
    "- Tableau implementation\n",
    "- Website Design\n",
    "\n",
    "###### Amla Srivastava:\n",
    "- Mapping with CartoDB\n",
    "- Exploratory data analysis\n",
    "- Tableau implementation\n",
    "- Website design\n",
    "- Final Report\n",
    "\n",
    "###### Arman Uygur: \n",
    "- Correlation analysis for various selected variables\n",
    "- Conduct some feature engineering via data manipulation techniques\n",
    "- Link any potential data (merge or feature extraction) for drawing deeper insights in causation rather than correlation\n",
    "- Final Report"
   ]
  },
  {
   "cell_type": "markdown",
   "metadata": {},
   "source": [
    "### 3. Analysis of Data Quality\n",
    "\n",
    "The dataset obtained from NYC Open data is relatively clean and organized. However, there are a lot of missing values. Missing values per variable/column are shown below."
   ]
  },
  {
   "cell_type": "code",
   "execution_count": 2,
   "metadata": {
    "collapsed": false
   },
   "outputs": [
    {
     "data": {
      "text/html": [
       "<img src=\"https://raw.githubusercontent.com/ckaavya/EDAV-Project/master/Missingness.png\"/>"
      ],
      "text/plain": [
       "<IPython.core.display.Image object>"
      ]
     },
     "execution_count": 2,
     "metadata": {},
     "output_type": "execute_result"
    }
   ],
   "source": [
    "from IPython.display import Image\n",
    "from IPython.core.display import HTML \n",
    "Image(url= \"https://raw.githubusercontent.com/ckaavya/EDAV-Project/master/Missingness.png\")"
   ]
  },
  {
   "cell_type": "markdown",
   "metadata": {},
   "source": [
    "\n",
    "\n",
    "\n",
    "\n",
    "\n",
    "R notebook ‘getMissingness.R’ includes all the code that finds the percentage of missing data and plots the graph above.\n",
    "\n",
    "While looking at the dataset, we wanted to see how messy and complete it was. In order to obtain meaningful statistics about variables and measure their correlations and importance in predicting the vehicle collisions, it is necessary to get a sense of the distribution of missingness. This is also used in determining the useful variables. While there are several imputation techniques, if a variable has about 80-90% of missing data, it is probably not meaningful to impute the missing data since it is likely that we obtain false values. From this graph, we understood that the following variables were pretty much useless in our future analysis: “Vehicle Type Code 5”, “Contributing Factor Vehicle 5”, “Vehicle Type Code 4”, “Contributing Factor Vehicle 4”, “Vehicle Type Code 3”, “Contributing Factor Vehicle 3” and “Off Street Name”. This also suggests that more than 93% of the collisions occur with up to 2 vehicles.\n",
    "\n",
    "Ignoring the features with more than 25% missingness, we started our analysis with location analytics. For carto maps we used the lat and long and for tableau maps we used the zip codes. Since there were a lot of exploration and insights to gather, we decided not to impute the data. Most missing data were not because that they were not recorded, it was simply that they did not exist. For example, an accident involving two cars would not have a feature called ‘Contributing Factor Vehicle 5’. Therefore it is not meaningful to come up with made up data. We also saw that whenever there is a missing value in zip code, there is a high chance that lat and log were missed also. From the correlation matrix of lat and long,we have found that there was not a meaningful relationship between them and other factors. This indicates that we cannot really use other features to impute the lat and long data. Therefore we did not do any imputation.\n"
   ]
  },
  {
   "cell_type": "markdown",
   "metadata": {
    "collapsed": true
   },
   "source": [
    "### 4. Executive Summary\n",
    "\n",
    "We have analyzed across 20 different existing and engineered features to see if we can find any meaningful relationship between an incident and likelihood of being killed or injured. We have looked at the seasonal, hourly, daily and locational effects along with different vehicle types and various types of contribution factors such as alcohol involvement, fatigue, driver inattention etc. We even went further and analyzed physical characteristics of the locations with the most frequent accidents that are caused by driver inattention, on Google Maps. Our main hypothesis was that a particular location with lots of lightening, advertisements or other distractive ads (such as a daring billboard of Moulin Rouge or of a gentlemen’s club) might have caused driver inattention. However, findings disproved this hypothesis, there was no common physical characteristics between analyzed top 5 location; one was a roundabout in downtown, another one was near times square and remaining did not have any meaningful traits. \n",
    "\n",
    "Another common cause among accidents was fatigue and couple locations where the frequent accidents happened were near the shopping malls. We posit that long hours of shopping might have caused fatigue related accidents, however this remains a merely correlation rather than a causal finding.\n",
    "\n",
    "We also calculated something we call \"Adjusted Risk Score\" by zip code. Essentially, we cannot prevent accidents but what we can do is to minimize the risks when it happens. So we wanted to see whenever an accident happens, how many people died and how many are injured. Based on those, we came up with a basic statistics, which shows the ratio of killed/injured to accidents. This is truly a probabilistic approach; we are just computing a prior distribution. Based on this information, we can then say that certain regions in NYC are safer than others. For example, when we look at the @Adjusted Risk Score map, we can clearly see the accidents occurred in Manhattan is less likely to cause a death or injury compared to Brooklyn, Queens and Bronx. One of the possible causes for this is the speed limit. The areas with higher risk scores tend to be located near highways and intercity roads and speed limits are higher in those areas than Manhattan. In Manhattan, there are street lights and heavy traffic that often slows cars significantly. Incidents happened at a slower pace likely to cause fewer injuries. This is actually a known thing, but here we are actually proving it.\n",
    "\n",
    "Our main finding is related to seasonal effects of traffic accidents. Both number of accidents and number of injured by season linearly correlated with type of vehicles used. If we look at the interactive graph @Vehicles Seasonality( https://public.tableau.com/views/falll3/vehicleseason?:embed=y&:display_count=yes), we can see the clear trends in accidents by vehicle types. In summer and fall, people tend to use bicycles and motorbikes since the weather is relatively nicer, and the usage of taxis drop. This reflects the number of accidents as well. The most accidents and injuries for cyclists happened during the summer, while for taxis most accidents happened in winter and fall (late fall). During the bad weather conditions, it is very unlikely that people bike and they take taxis instead (when it rains or snows). Because of snow, people may not want to use their passenger vehicles during the winter as often, and they choose to commute with bus or subway. The number of vehicle accidents drops during the winter and fall. And as expected, the bus schedules are not affected by seasons and they remain constant throughout the year. Hence, number of accidents for busses remained similar for each season. We also know that bus schedules are more frequent during the work hours; hence we get more accidents from 8 am to 6 pm. Seasonal affects did not really change dramatically by location as well. Brooklyn showed similar trends as Manhattan by season for 4 different vehicle categories that we analyzed. Notice that we combined some categories, believing in that they would show similar characteristics (e.g. bicycle and motorcycle).\n",
    "\n",
    "In conclusion, our analysis showed that, in order to determine how often an accident happens and how likely it’ll be fatal, one needs to take into account for several important characteristics of a road. Season, time of the day, whether place is located near shopping malls or if there are any roundabouts (literally physical characteristics of roads), speed limits, population (indirectly causing pedestrian traffic which slows the traffic), prior distribution of accident/injury ratio (if we want to approach the problem probabilistic), weekend vs weekday (this is essentially another probabilistic distribution comparison, traffic density), and region. "
   ]
  },
  {
   "cell_type": "markdown",
   "metadata": {},
   "source": [
    "### 5. Main Analysis \n",
    "\n",
    "All visualizations and descriptions are published online at https://ckaavya.github.io/EDAV-Project/.\n",
    "\n",
    "\n",
    "###### Data cleaning process:\n",
    "The code for data cleaning is available at https://github.com/ckaavya/EDAV-Project.\n",
    "\n",
    "\n",
    "We cleaned the data and created different datasets using different approaches. For the carto maps where we needed the location coordinates, deaths and injuries, we used python to preprocess the data. \n",
    "\n",
    "Overall use applied the following techniques:\n",
    "- To ensure that we can use date format in python, we standardized the Date column.\n",
    "- Some null values were in inconsistent format, such as empty string ‘ ‘ and an empty string with spaces ‘________‘, we fixed this as well.\n",
    "- Filtered data by date - since we wanted to focus 2013 to 2016\n",
    "- ZIP CODEs were inconsistent, some were in string format and some in integer format. We standardized the ZIP CODE column.\n",
    "\n",
    "Python notebook ‘CartoMapGetData.ipynb’ includes all the code that is needed to pre-process the data used in Carto Animation Maps. For this specifically:\n",
    "- We wrote our own “tidy” functions to get the desired format.\n",
    "- We created two dataframes, one for injured people and another for killed people.\n",
    "- Since we used this data for location analytics, we dropped all the rows without any lat and long information.\n",
    "\n",
    "\n",
    "Python notebook ‘Exploratory.ipynb’ includes all the code that generates data for other plotting purposes. For this specifically;\n",
    "- We created additional features:\n",
    "  * YEAR\n",
    "  * MONTH\n",
    "  * DAY\n",
    "  * WEEKDAY [integer value indicating week of the day]\n",
    "  * HOUR\n",
    "  * wdaySTATUS : A binary column with following values : “Weekend”, “Weekday”\n",
    "  * monthStatus: A feature indicating the season of the year (e.g. “Winter”)\n",
    "  * hourStatus: A feature indicating time status (e.g “Workhour”, “evening” etc)\n",
    "  * TotalDeathsInjuries: A feature summing the injuries and deaths by row\n",
    "  * Ref :  A column with all 1s, used for counting purposes.\n",
    "\n",
    "- We created a new dataframe to get ratio of total injuries and deaths by zip code.\n",
    "\n",
    "For the following features, we used a correlation matrix to see if there is any relationship: 'LATITUDE', 'LONGITUDE', 'NUMBER OF PERSONS INJURED', 'NUMBER OF PERSONS KILLED', 'NUMBER OF PEDESTRIANS INJURED', 'NUMBER OF PEDESTRIANS KILLED', 'NUMBER OF CYCLIST INJURED', 'NUMBER OF CYCLIST KILLED', 'NUMBER OF MOTORIST INJURED', 'NUMBER OF MOTORIST KILLED', 'YEAR', 'MONTH', 'DAY', 'WEEKDAY', 'HOUR'. Conclusion was that for specific lat and long location, there is no meaningful correlation between deaths, injuries and location. This is most likely due to the fact that we used too specific values such as long and lat. There were some relationships between injured and deaths but this was nothing out of ordinary.\n",
    "\n",
    "\n",
    "\n",
    "\n"
   ]
  },
  {
   "cell_type": "code",
   "execution_count": 1,
   "metadata": {
    "collapsed": false
   },
   "outputs": [
    {
     "data": {
      "text/html": [
       "<img src=\"https://raw.githubusercontent.com/ckaavya/EDAV-Project/master/Correl.JPG\"/>"
      ],
      "text/plain": [
       "<IPython.core.display.Image object>"
      ]
     },
     "execution_count": 1,
     "metadata": {},
     "output_type": "execute_result"
    }
   ],
   "source": [
    "from IPython.display import Image\n",
    "from IPython.core.display import HTML \n",
    "Image(url= \"https://raw.githubusercontent.com/ckaavya/EDAV-Project/master/Correl.JPG\")"
   ]
  },
  {
   "cell_type": "markdown",
   "metadata": {},
   "source": [
    "We used this main dataframe to get insights in Tableau.\n",
    "\n",
    "\n",
    "###### Approaches that didn’t work:\n",
    "- Initially several different tools were tried to develop visualizations such as R, Python, D3.js, Tableau and CartoDB. Eventually, we used Tableau for the static/interactive graphs/charts, Python for cleaning the data and data manipulation and CartoDB for creating dynamic maps.\n",
    "- While IIHS found that the second deadliest day for accidents after July 4 was September 2, followed by August 13, July 15, May 20, and November 11, we couldn’t similar trends when observing days wise accident counts. The reason we assume is that since our data is restricted to just one city and the data does not capture general trends observed when considering accidents worldwide.\n",
    "- When trying to explore the top contributing factors, we found that only driver inattention/ distraction as the most common reason borough-wise, street-wise etc. Hence, analyzing the contributing factors did not provide much insights\n",
    "- Considering the top crashes at the intersections taking on-street and cross-street, we tried looking at Google Maps for a particular cause with regards to location, but we could not find any.\n",
    "\n",
    "\n",
    "###### Challenges:\n",
    "- Learning new tools such as CartoDB and Tableau\n",
    "- Missing data was a challenge since in most cases imputation was not possible given the data and data types\n",
    "- Integration of Tableau workbooks and CartoDB maps into a single format website\n",
    "- The data had to be grouped across various categories: For eg, the vehicle type were grouped as 2-wheelers, 4-wheelers, 6-wheelers, public transport. Also there were many contributing factors for accidents and these had t grouped accordingly taking the top reasons"
   ]
  },
  {
   "cell_type": "markdown",
   "metadata": {},
   "source": [
    "### 6. Conclusion \n",
    "The project was an in-depth exercise to explore and study trends and patterns in the NYC motor vehicle collision dataset. Through the course of the project, we learnt to use several data visualization tools including R, Python, CartoDB, Tableau and D3.js. We explored and learnt different visualization techniques and effective practices for visualizing data. All inferences have been explained under the above headings.\n",
    "\n",
    "###### Limitations:\n",
    "The visualizations currently capture only limited trends. The dataset has several variables that could be explored in greater depth such as factors contributing to accidents, vehicle types involved and a deeper analysis of socio-geographic elements which influence these.\n",
    "Since data was mostly discrete/categorical, options for charting were comparatively limited.\n",
    "\n",
    "\n",
    "###### Future directions:\n",
    "\n",
    "The next step in analysis would be to merge the dataset with external datasets pertaining to NYC such as for weather data, population data, socio-economic data etc. to draw deeper insights.\n",
    "\n",
    "\n",
    "\n"
   ]
  },
  {
   "cell_type": "code",
   "execution_count": null,
   "metadata": {
    "collapsed": true
   },
   "outputs": [],
   "source": []
  }
 ],
 "metadata": {
  "anaconda-cloud": {},
  "kernelspec": {
   "display_name": "Python [conda root]",
   "language": "python",
   "name": "conda-root-py"
  },
  "language_info": {
   "codemirror_mode": {
    "name": "ipython",
    "version": 3
   },
   "file_extension": ".py",
   "mimetype": "text/x-python",
   "name": "python",
   "nbconvert_exporter": "python",
   "pygments_lexer": "ipython3",
   "version": "3.5.2"
  }
 },
 "nbformat": 4,
 "nbformat_minor": 1
}
